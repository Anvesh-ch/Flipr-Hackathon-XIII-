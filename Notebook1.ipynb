{
 "cells": [
  {
   "cell_type": "markdown",
   "id": "b23c4c7a",
   "metadata": {},
   "source": [
    "## Standard Imports"
   ]
  },
  {
   "cell_type": "code",
   "execution_count": 1,
   "id": "a349c986",
   "metadata": {},
   "outputs": [],
   "source": [
    "import pandas as pd\n",
    "import numpy as np\n",
    "import seaborn as sns\n",
    "import random\n",
    "import matplotlib.pyplot as plt\n",
    "import heartpy as hp\n",
    "from scipy.signal import resample\n",
    "import janitor\n",
    "\n",
    "import warnings\n",
    "warnings.filterwarnings('ignore')\n",
    "\n",
    "pd.set_option('display.max_columns',25)\n",
    "\n",
    "sample_rate = 300"
   ]
  },
  {
   "cell_type": "markdown",
   "id": "173c8a26",
   "metadata": {},
   "source": [
    "## 1. Data Exploration"
   ]
  },
  {
   "cell_type": "code",
   "execution_count": 2,
   "id": "bac009f5",
   "metadata": {},
   "outputs": [
    {
     "data": {
      "text/plain": [
       "(3500, 2)"
      ]
     },
     "execution_count": 2,
     "metadata": {},
     "output_type": "execute_result"
    }
   ],
   "source": [
    "dataset = pd.read_csv('E:\\Competition\\Flipr Hackathon XIII ML Task\\ECG_training.csv')\n",
    "dataset.shape"
   ]
  },
  {
   "cell_type": "code",
   "execution_count": 3,
   "id": "2b7181a5",
   "metadata": {},
   "outputs": [
    {
     "data": {
      "text/html": [
       "<div>\n",
       "<style scoped>\n",
       "    .dataframe tbody tr th:only-of-type {\n",
       "        vertical-align: middle;\n",
       "    }\n",
       "\n",
       "    .dataframe tbody tr th {\n",
       "        vertical-align: top;\n",
       "    }\n",
       "\n",
       "    .dataframe thead th {\n",
       "        text-align: right;\n",
       "    }\n",
       "</style>\n",
       "<table border=\"1\" class=\"dataframe\">\n",
       "  <thead>\n",
       "    <tr style=\"text-align: right;\">\n",
       "      <th></th>\n",
       "      <th>ECG</th>\n",
       "      <th>Classification</th>\n",
       "    </tr>\n",
       "  </thead>\n",
       "  <tbody>\n",
       "    <tr>\n",
       "      <th>0</th>\n",
       "      <td>-127,-162,-197,-229,-245,-254,-261,-265,-268,-...</td>\n",
       "      <td>N</td>\n",
       "    </tr>\n",
       "    <tr>\n",
       "      <th>1</th>\n",
       "      <td>128,157,189,226,250,257,262,265,268,269,268,26...</td>\n",
       "      <td>N</td>\n",
       "    </tr>\n",
       "    <tr>\n",
       "      <th>2</th>\n",
       "      <td>519,619,723,827,914,956,955,934,920,900,889,88...</td>\n",
       "      <td>A</td>\n",
       "    </tr>\n",
       "    <tr>\n",
       "      <th>3</th>\n",
       "      <td>-266,-316,-367,-407,-423,-423,-401,-367,-329,-...</td>\n",
       "      <td>N</td>\n",
       "    </tr>\n",
       "    <tr>\n",
       "      <th>4</th>\n",
       "      <td>21,22,24,26,28,31,32,34,34,35,35,34,34,34,35,3...</td>\n",
       "      <td>N</td>\n",
       "    </tr>\n",
       "  </tbody>\n",
       "</table>\n",
       "</div>"
      ],
      "text/plain": [
       "                                                 ECG Classification\n",
       "0  -127,-162,-197,-229,-245,-254,-261,-265,-268,-...              N\n",
       "1  128,157,189,226,250,257,262,265,268,269,268,26...              N\n",
       "2  519,619,723,827,914,956,955,934,920,900,889,88...              A\n",
       "3  -266,-316,-367,-407,-423,-423,-401,-367,-329,-...              N\n",
       "4  21,22,24,26,28,31,32,34,34,35,35,34,34,34,35,3...              N"
      ]
     },
     "execution_count": 3,
     "metadata": {},
     "output_type": "execute_result"
    }
   ],
   "source": [
    "dataset.head()"
   ]
  },
  {
   "cell_type": "code",
   "execution_count": 4,
   "id": "2f13e711",
   "metadata": {},
   "outputs": [
    {
     "data": {
      "text/plain": [
       "N    3089\n",
       "A     411\n",
       "Name: Classification, dtype: int64"
      ]
     },
     "execution_count": 4,
     "metadata": {},
     "output_type": "execute_result"
    }
   ],
   "source": [
    "dataset['Classification'].value_counts()"
   ]
  },
  {
   "cell_type": "code",
   "execution_count": 5,
   "id": "bcb7192f",
   "metadata": {},
   "outputs": [
    {
     "data": {
      "image/png": "[encoded data removed]",
      "text/plain": [
       "<Figure size 432x288 with 1 Axes>"
      ]
     },
     "metadata": {
      "needs_background": "light"
     },
     "output_type": "display_data"
    }
   ],
   "source": [
    "sns.countplot(dataset['Classification']);"
   ]
  },
  {
   "cell_type": "markdown",
   "id": "8a949b26",
   "metadata": {},
   "source": [
    "#### The above plot suggests that the dataset is Imbalanced Dataset."
   ]
  },
  {
   "cell_type": "code",
   "execution_count": 6,
   "id": "4feadccc",
   "metadata": {},
   "outputs": [],
   "source": [
    "list_a = list(dataset[dataset['Classification'] == 'A'].index)"
   ]
  },
  {
   "cell_type": "code",
   "execution_count": 7,
   "id": "c47e2943",
   "metadata": {},
   "outputs": [],
   "source": [
    "def splitter(series):\n",
    "    data = series.str.split(',')\n",
    "    data = data.apply(lambda x: list(map(int, x)))\n",
    "    return data\n",
    "    "
   ]
  },
  {
   "cell_type": "code",
   "execution_count": 8,
   "id": "c197634e",
   "metadata": {},
   "outputs": [],
   "source": [
    "dataset = (\n",
    "    dataset.copy()\n",
    "    .transform_column('ECG', splitter, elementwise=False)\n",
    ")"
   ]
  },
  {
   "cell_type": "code",
   "execution_count": null,
   "id": "435ed2fb",
   "metadata": {},
   "outputs": [],
   "source": []
  },
  {
   "cell_type": "markdown",
   "id": "f4741977",
   "metadata": {},
   "source": [
    "## 2. Feature Extraction"
   ]
  },
  {
   "cell_type": "markdown",
   "id": "ca92c58d",
   "metadata": {},
   "source": [
    "**Steps:**\n",
    "* The data we take for analysis is sliced off for first 2s essentially 28s of the data because some samples have unreal data in that range indicating the problem with the start of the sensor.\n",
    "* The primary step would be to filter the data (performing notch as well as bandpass).\n",
    "* The second step being scaling the data to keep every sample in the same range (optional).\n",
    "* The third step takes into account of two steps:\n",
    "    * First, inverting an inverted ECG signal.\n",
    "    * Second, Resampling those samples which have more number of rejected peaks.\n",
    "    * Third, retrieving the measures of time and frequency related domains of the samples."
   ]
  },
  {
   "cell_type": "code",
   "execution_count": 25,
   "id": "8e8db505",
   "metadata": {},
   "outputs": [],
   "source": [
    "# To know whether the sample is inverted, if so then we can invert the inverted signal\n",
    "def non_inverted_ecg(arr):\n",
    "    '''\n",
    "    Comparing the difference of height between the mean of the signal and the peak of the inverted and non-inverted signals\n",
    "    Intuition: Non-inverted signals will have more difference of height than inverted signal because of the nature\n",
    "    of the QRS complex.\n",
    "    \n",
    "    '''\n",
    "\n",
    "    num_samples = 5\n",
    "    count_nos = 0\n",
    "    num_normal = []\n",
    "    num_inv = []\n",
    "    \n",
    "    nor_wd, nor_m = hp.process(arr, sample_rate=sample_rate, calc_freq=True, bpmmin=20, bpmmax=180)\n",
    "    for i in random.sample(list(nor_wd['peaklist']), k=num_samples):\n",
    "        mean = nor_wd['hr'].mean()\n",
    "        num_normal.append(nor_wd['hr'][i] - mean)\n",
    "    mean_num_normal = np.array(num_normal).mean()\n",
    "    \n",
    "    inv_wd, inv_m = hp.process(hp.flip_signal(arr), sample_rate=sample_rate, calc_freq=True, bpmmin=20, bpmmax=180)\n",
    "    for i in random.sample(list(inv_wd['peaklist']), k=num_samples):\n",
    "        mean = inv_wd['hr'].mean()\n",
    "        num_inv.append(inv_wd['hr'][i] - mean)\n",
    "    mean_num_inv = np.array(num_inv).mean()\n",
    "    \n",
    "     \n",
    "    if mean_num_normal > mean_num_inv:\n",
    "        if len(nor_wd['removed_beats']) > 5:\n",
    "            resampled_signal = resample(arr, len(arr) * 6)\n",
    "            nor_wd, nor_m = hp.process(hp.scale_data(resampled_signal), sample_rate * 6, calc_freq=True, bpmmin=20, bpmmax=180)\n",
    "        return nor_wd, nor_m\n",
    "    else:\n",
    "        if len(inv_wd['removed_beats']) > 5:\n",
    "            resampled_signal = resample(arr, len(arr) * 6)\n",
    "            inv_wd, inv_m = hp.process(hp.scale_data(resampled_signal), sample_rate * 6, calc_freq=True, bpmmin=20, bpmmax=180)\n",
    "        return inv_wd, inv_m\n",
    "\n",
    "#     '''Setting the threshold as only 80% of the peaks to neglect some random peaks'''\n",
    "#     if count_nos > 0.8*num_samples:\n",
    "#         return nor_wd, nor_m\n",
    "#     else:\n",
    "#         return inv_wd, inv_m"
   ]
  },
  {
   "cell_type": "code",
   "execution_count": 26,
   "id": "82f44f1f",
   "metadata": {},
   "outputs": [],
   "source": [
    "# 1892,2325 have inverted ECG signal\n",
    "# 37,708, 945 is the most problamatic\n",
    "# Should do filtering(notch) followed by scaling\n",
    "def features(series):\n",
    "    count=0\n",
    "    cols = ['bpm', 'ibi', 'sdnn', 'sdsd', 'rmssd', 'pnn20', 'pnn50', 'hr_mad', 'sd1', 'sd2', 's', 'sd1/sd2', 'breathingrate',\n",
    "           'vlf', 'lf', 'hf', 'lf/hf', 'p_total', 'vlf_perc', 'lf_perc', 'hf_perc', 'lf_nu', 'hf_nu']\n",
    "    df = pd.DataFrame(columns=cols)\n",
    "    for arr in series:\n",
    "        arr = hp.filter_signal(arr[600::], cutoff=0.05, sample_rate=sample_rate, filtertype='notch')\n",
    "#         arr = hp.filter_signal(arr, cutoff=(0.33,3), sample_rate=sample_rate, filtertype='bandpass')\n",
    "        arr = hp.scale_data(arr)\n",
    "        wd, m = non_inverted_ecg(arr)\n",
    "        df.loc[count] = m\n",
    "        count += 1\n",
    "    return df"
   ]
  },
  {
   "cell_type": "code",
   "execution_count": 27,
   "id": "a746292a",
   "metadata": {},
   "outputs": [
    {
     "name": "stdout",
     "output_type": "stream",
     "text": [
      "Wall time: 5min 20s\n"
     ]
    }
   ],
   "source": [
    "%%time\n",
    "df = features(dataset['ECG'])"
   ]
  },
  {
   "cell_type": "code",
   "execution_count": 28,
   "id": "a7eaeae7",
   "metadata": {},
   "outputs": [],
   "source": [
    "df['Classification'] = dataset['Classification']"
   ]
  },
  {
   "cell_type": "code",
   "execution_count": 29,
   "id": "f3e4d950",
   "metadata": {},
   "outputs": [
    {
     "data": {
      "text/html": [
       "<div>\n",
       "<style scoped>\n",
       "    .dataframe tbody tr th:only-of-type {\n",
       "        vertical-align: middle;\n",
       "    }\n",
       "\n",
       "    .dataframe tbody tr th {\n",
       "        vertical-align: top;\n",
       "    }\n",
       "\n",
       "    .dataframe thead th {\n",
       "        text-align: right;\n",
       "    }\n",
       "</style>\n",
       "<table border=\"1\" class=\"dataframe\">\n",
       "  <thead>\n",
       "    <tr style=\"text-align: right;\">\n",
       "      <th></th>\n",
       "      <th>bpm</th>\n",
       "      <th>ibi</th>\n",
       "      <th>sdnn</th>\n",
       "      <th>sdsd</th>\n",
       "      <th>rmssd</th>\n",
       "      <th>pnn20</th>\n",
       "      <th>pnn50</th>\n",
       "      <th>hr_mad</th>\n",
       "      <th>sd1</th>\n",
       "      <th>sd2</th>\n",
       "      <th>s</th>\n",
       "      <th>sd1/sd2</th>\n",
       "      <th>breathingrate</th>\n",
       "      <th>vlf</th>\n",
       "      <th>lf</th>\n",
       "      <th>hf</th>\n",
       "      <th>lf/hf</th>\n",
       "      <th>p_total</th>\n",
       "      <th>vlf_perc</th>\n",
       "      <th>lf_perc</th>\n",
       "      <th>hf_perc</th>\n",
       "      <th>lf_nu</th>\n",
       "      <th>hf_nu</th>\n",
       "      <th>Classification</th>\n",
       "    </tr>\n",
       "  </thead>\n",
       "  <tbody>\n",
       "    <tr>\n",
       "      <th>0</th>\n",
       "      <td>78.612428</td>\n",
       "      <td>763.238095</td>\n",
       "      <td>32.848722</td>\n",
       "      <td>11.001817</td>\n",
       "      <td>21.213203</td>\n",
       "      <td>0.352941</td>\n",
       "      <td>0.000000</td>\n",
       "      <td>30.000000</td>\n",
       "      <td>14.942058</td>\n",
       "      <td>43.783539</td>\n",
       "      <td>2055.280701</td>\n",
       "      <td>0.341271</td>\n",
       "      <td>0.299558</td>\n",
       "      <td>0.0</td>\n",
       "      <td>86.614762</td>\n",
       "      <td>172.616026</td>\n",
       "      <td>0.501777</td>\n",
       "      <td>259.230788</td>\n",
       "      <td>0.0</td>\n",
       "      <td>33.412220</td>\n",
       "      <td>66.587780</td>\n",
       "      <td>33.412220</td>\n",
       "      <td>66.587780</td>\n",
       "      <td>N</td>\n",
       "    </tr>\n",
       "    <tr>\n",
       "      <th>1</th>\n",
       "      <td>69.186419</td>\n",
       "      <td>867.222222</td>\n",
       "      <td>162.635034</td>\n",
       "      <td>186.111111</td>\n",
       "      <td>267.556963</td>\n",
       "      <td>0.500000</td>\n",
       "      <td>0.500000</td>\n",
       "      <td>3.055556</td>\n",
       "      <td>135.921637</td>\n",
       "      <td>131.600429</td>\n",
       "      <td>56194.753777</td>\n",
       "      <td>1.032836</td>\n",
       "      <td>0.288517</td>\n",
       "      <td>0.0</td>\n",
       "      <td>0.000000</td>\n",
       "      <td>0.000000</td>\n",
       "      <td>NaN</td>\n",
       "      <td>0.000000</td>\n",
       "      <td>NaN</td>\n",
       "      <td>NaN</td>\n",
       "      <td>NaN</td>\n",
       "      <td>NaN</td>\n",
       "      <td>NaN</td>\n",
       "      <td>N</td>\n",
       "    </tr>\n",
       "    <tr>\n",
       "      <th>2</th>\n",
       "      <td>64.404983</td>\n",
       "      <td>931.604938</td>\n",
       "      <td>172.742036</td>\n",
       "      <td>136.380253</td>\n",
       "      <td>222.444999</td>\n",
       "      <td>0.920000</td>\n",
       "      <td>0.800000</td>\n",
       "      <td>123.333333</td>\n",
       "      <td>157.237655</td>\n",
       "      <td>186.234404</td>\n",
       "      <td>91995.449057</td>\n",
       "      <td>0.844300</td>\n",
       "      <td>0.198855</td>\n",
       "      <td>0.0</td>\n",
       "      <td>3288.545748</td>\n",
       "      <td>17098.709464</td>\n",
       "      <td>0.192327</td>\n",
       "      <td>20387.255213</td>\n",
       "      <td>0.0</td>\n",
       "      <td>16.130400</td>\n",
       "      <td>83.869600</td>\n",
       "      <td>16.130400</td>\n",
       "      <td>83.869600</td>\n",
       "      <td>A</td>\n",
       "    </tr>\n",
       "    <tr>\n",
       "      <th>3</th>\n",
       "      <td>57.121933</td>\n",
       "      <td>1050.384615</td>\n",
       "      <td>38.975413</td>\n",
       "      <td>18.36712</td>\n",
       "      <td>30.433899</td>\n",
       "      <td>0.560000</td>\n",
       "      <td>0.080000</td>\n",
       "      <td>26.666667</td>\n",
       "      <td>21.038800</td>\n",
       "      <td>44.096460</td>\n",
       "      <td>2914.570509</td>\n",
       "      <td>0.477109</td>\n",
       "      <td>0.183143</td>\n",
       "      <td>0.0</td>\n",
       "      <td>28.667866</td>\n",
       "      <td>215.987689</td>\n",
       "      <td>0.132729</td>\n",
       "      <td>244.655555</td>\n",
       "      <td>0.0</td>\n",
       "      <td>11.717644</td>\n",
       "      <td>88.282356</td>\n",
       "      <td>11.717644</td>\n",
       "      <td>88.282356</td>\n",
       "      <td>N</td>\n",
       "    </tr>\n",
       "    <tr>\n",
       "      <th>4</th>\n",
       "      <td>62.831006</td>\n",
       "      <td>954.942529</td>\n",
       "      <td>50.466184</td>\n",
       "      <td>19.446347</td>\n",
       "      <td>29.202359</td>\n",
       "      <td>0.428571</td>\n",
       "      <td>0.071429</td>\n",
       "      <td>43.333333</td>\n",
       "      <td>20.461477</td>\n",
       "      <td>68.042510</td>\n",
       "      <td>4373.883224</td>\n",
       "      <td>0.300716</td>\n",
       "      <td>0.144493</td>\n",
       "      <td>0.0</td>\n",
       "      <td>1149.713023</td>\n",
       "      <td>89.424585</td>\n",
       "      <td>12.856789</td>\n",
       "      <td>1239.137608</td>\n",
       "      <td>0.0</td>\n",
       "      <td>92.783321</td>\n",
       "      <td>7.216679</td>\n",
       "      <td>92.783321</td>\n",
       "      <td>7.216679</td>\n",
       "      <td>N</td>\n",
       "    </tr>\n",
       "    <tr>\n",
       "      <th>...</th>\n",
       "      <td>...</td>\n",
       "      <td>...</td>\n",
       "      <td>...</td>\n",
       "      <td>...</td>\n",
       "      <td>...</td>\n",
       "      <td>...</td>\n",
       "      <td>...</td>\n",
       "      <td>...</td>\n",
       "      <td>...</td>\n",
       "      <td>...</td>\n",
       "      <td>...</td>\n",
       "      <td>...</td>\n",
       "      <td>...</td>\n",
       "      <td>...</td>\n",
       "      <td>...</td>\n",
       "      <td>...</td>\n",
       "      <td>...</td>\n",
       "      <td>...</td>\n",
       "      <td>...</td>\n",
       "      <td>...</td>\n",
       "      <td>...</td>\n",
       "      <td>...</td>\n",
       "      <td>...</td>\n",
       "      <td>...</td>\n",
       "    </tr>\n",
       "    <tr>\n",
       "      <th>3495</th>\n",
       "      <td>88.073394</td>\n",
       "      <td>681.250000</td>\n",
       "      <td>62.497500</td>\n",
       "      <td>65.51013</td>\n",
       "      <td>74.133167</td>\n",
       "      <td>0.410256</td>\n",
       "      <td>0.102564</td>\n",
       "      <td>35.000000</td>\n",
       "      <td>52.346293</td>\n",
       "      <td>70.436841</td>\n",
       "      <td>11583.389889</td>\n",
       "      <td>0.743166</td>\n",
       "      <td>0.110140</td>\n",
       "      <td>0.0</td>\n",
       "      <td>502.923110</td>\n",
       "      <td>1297.846995</td>\n",
       "      <td>0.387506</td>\n",
       "      <td>1800.770105</td>\n",
       "      <td>0.0</td>\n",
       "      <td>27.928224</td>\n",
       "      <td>72.071776</td>\n",
       "      <td>27.928224</td>\n",
       "      <td>72.071776</td>\n",
       "      <td>N</td>\n",
       "    </tr>\n",
       "    <tr>\n",
       "      <th>3496</th>\n",
       "      <td>73.539425</td>\n",
       "      <td>815.888889</td>\n",
       "      <td>17.377792</td>\n",
       "      <td>9.035079</td>\n",
       "      <td>14.198144</td>\n",
       "      <td>0.142857</td>\n",
       "      <td>0.000000</td>\n",
       "      <td>11.666667</td>\n",
       "      <td>10.038192</td>\n",
       "      <td>20.289850</td>\n",
       "      <td>639.858906</td>\n",
       "      <td>0.494740</td>\n",
       "      <td>0.326958</td>\n",
       "      <td>0.0</td>\n",
       "      <td>40.978127</td>\n",
       "      <td>46.495530</td>\n",
       "      <td>0.881335</td>\n",
       "      <td>87.473657</td>\n",
       "      <td>0.0</td>\n",
       "      <td>46.846249</td>\n",
       "      <td>53.153751</td>\n",
       "      <td>46.846249</td>\n",
       "      <td>53.153751</td>\n",
       "      <td>N</td>\n",
       "    </tr>\n",
       "    <tr>\n",
       "      <th>3497</th>\n",
       "      <td>63.535162</td>\n",
       "      <td>944.358974</td>\n",
       "      <td>55.483648</td>\n",
       "      <td>14.455124</td>\n",
       "      <td>26.509956</td>\n",
       "      <td>0.458333</td>\n",
       "      <td>0.041667</td>\n",
       "      <td>31.666667</td>\n",
       "      <td>18.480053</td>\n",
       "      <td>73.760331</td>\n",
       "      <td>4282.288606</td>\n",
       "      <td>0.250542</td>\n",
       "      <td>0.244459</td>\n",
       "      <td>0.0</td>\n",
       "      <td>396.919863</td>\n",
       "      <td>228.657090</td>\n",
       "      <td>1.735874</td>\n",
       "      <td>625.576953</td>\n",
       "      <td>0.0</td>\n",
       "      <td>63.448607</td>\n",
       "      <td>36.551393</td>\n",
       "      <td>63.448607</td>\n",
       "      <td>36.551393</td>\n",
       "      <td>N</td>\n",
       "    </tr>\n",
       "    <tr>\n",
       "      <th>3498</th>\n",
       "      <td>82.681564</td>\n",
       "      <td>725.675676</td>\n",
       "      <td>47.778674</td>\n",
       "      <td>8.511974</td>\n",
       "      <td>15.122953</td>\n",
       "      <td>0.194444</td>\n",
       "      <td>0.000000</td>\n",
       "      <td>23.333333</td>\n",
       "      <td>10.567529</td>\n",
       "      <td>66.542419</td>\n",
       "      <td>2209.133203</td>\n",
       "      <td>0.158809</td>\n",
       "      <td>0.186331</td>\n",
       "      <td>0.0</td>\n",
       "      <td>85.915074</td>\n",
       "      <td>168.677320</td>\n",
       "      <td>0.509346</td>\n",
       "      <td>254.592394</td>\n",
       "      <td>0.0</td>\n",
       "      <td>33.746128</td>\n",
       "      <td>66.253872</td>\n",
       "      <td>33.746128</td>\n",
       "      <td>66.253872</td>\n",
       "      <td>N</td>\n",
       "    </tr>\n",
       "    <tr>\n",
       "      <th>3499</th>\n",
       "      <td>73.442136</td>\n",
       "      <td>816.969697</td>\n",
       "      <td>25.390733</td>\n",
       "      <td>7.423657</td>\n",
       "      <td>12.204849</td>\n",
       "      <td>0.093750</td>\n",
       "      <td>0.000000</td>\n",
       "      <td>13.333333</td>\n",
       "      <td>8.397862</td>\n",
       "      <td>32.419689</td>\n",
       "      <td>855.317700</td>\n",
       "      <td>0.259036</td>\n",
       "      <td>0.148440</td>\n",
       "      <td>0.0</td>\n",
       "      <td>67.297500</td>\n",
       "      <td>12.830369</td>\n",
       "      <td>5.245173</td>\n",
       "      <td>80.127869</td>\n",
       "      <td>0.0</td>\n",
       "      <td>83.987633</td>\n",
       "      <td>16.012367</td>\n",
       "      <td>83.987633</td>\n",
       "      <td>16.012367</td>\n",
       "      <td>N</td>\n",
       "    </tr>\n",
       "  </tbody>\n",
       "</table>\n",
       "<p>3500 rows × 24 columns</p>\n",
       "</div>"
      ],
      "text/plain": [
       "            bpm          ibi        sdnn        sdsd       rmssd     pnn20  \\\n",
       "0     78.612428   763.238095   32.848722   11.001817   21.213203  0.352941   \n",
       "1     69.186419   867.222222  162.635034  186.111111  267.556963  0.500000   \n",
       "2     64.404983   931.604938  172.742036  136.380253  222.444999  0.920000   \n",
       "3     57.121933  1050.384615   38.975413    18.36712   30.433899  0.560000   \n",
       "4     62.831006   954.942529   50.466184   19.446347   29.202359  0.428571   \n",
       "...         ...          ...         ...         ...         ...       ...   \n",
       "3495  88.073394   681.250000   62.497500    65.51013   74.133167  0.410256   \n",
       "3496  73.539425   815.888889   17.377792    9.035079   14.198144  0.142857   \n",
       "3497  63.535162   944.358974   55.483648   14.455124   26.509956  0.458333   \n",
       "3498  82.681564   725.675676   47.778674    8.511974   15.122953  0.194444   \n",
       "3499  73.442136   816.969697   25.390733    7.423657   12.204849  0.093750   \n",
       "\n",
       "         pnn50      hr_mad         sd1         sd2             s   sd1/sd2  \\\n",
       "0     0.000000   30.000000   14.942058   43.783539   2055.280701  0.341271   \n",
       "1     0.500000    3.055556  135.921637  131.600429  56194.753777  1.032836   \n",
       "2     0.800000  123.333333  157.237655  186.234404  91995.449057  0.844300   \n",
       "3     0.080000   26.666667   21.038800   44.096460   2914.570509  0.477109   \n",
       "4     0.071429   43.333333   20.461477   68.042510   4373.883224  0.300716   \n",
       "...        ...         ...         ...         ...           ...       ...   \n",
       "3495  0.102564   35.000000   52.346293   70.436841  11583.389889  0.743166   \n",
       "3496  0.000000   11.666667   10.038192   20.289850    639.858906  0.494740   \n",
       "3497  0.041667   31.666667   18.480053   73.760331   4282.288606  0.250542   \n",
       "3498  0.000000   23.333333   10.567529   66.542419   2209.133203  0.158809   \n",
       "3499  0.000000   13.333333    8.397862   32.419689    855.317700  0.259036   \n",
       "\n",
       "      breathingrate  vlf           lf            hf      lf/hf       p_total  \\\n",
       "0          0.299558  0.0    86.614762    172.616026   0.501777    259.230788   \n",
       "1          0.288517  0.0     0.000000      0.000000        NaN      0.000000   \n",
       "2          0.198855  0.0  3288.545748  17098.709464   0.192327  20387.255213   \n",
       "3          0.183143  0.0    28.667866    215.987689   0.132729    244.655555   \n",
       "4          0.144493  0.0  1149.713023     89.424585  12.856789   1239.137608   \n",
       "...             ...  ...          ...           ...        ...           ...   \n",
       "3495       0.110140  0.0   502.923110   1297.846995   0.387506   1800.770105   \n",
       "3496       0.326958  0.0    40.978127     46.495530   0.881335     87.473657   \n",
       "3497       0.244459  0.0   396.919863    228.657090   1.735874    625.576953   \n",
       "3498       0.186331  0.0    85.915074    168.677320   0.509346    254.592394   \n",
       "3499       0.148440  0.0    67.297500     12.830369   5.245173     80.127869   \n",
       "\n",
       "      vlf_perc    lf_perc    hf_perc      lf_nu      hf_nu Classification  \n",
       "0          0.0  33.412220  66.587780  33.412220  66.587780              N  \n",
       "1          NaN        NaN        NaN        NaN        NaN              N  \n",
       "2          0.0  16.130400  83.869600  16.130400  83.869600              A  \n",
       "3          0.0  11.717644  88.282356  11.717644  88.282356              N  \n",
       "4          0.0  92.783321   7.216679  92.783321   7.216679              N  \n",
       "...        ...        ...        ...        ...        ...            ...  \n",
       "3495       0.0  27.928224  72.071776  27.928224  72.071776              N  \n",
       "3496       0.0  46.846249  53.153751  46.846249  53.153751              N  \n",
       "3497       0.0  63.448607  36.551393  63.448607  36.551393              N  \n",
       "3498       0.0  33.746128  66.253872  33.746128  66.253872              N  \n",
       "3499       0.0  83.987633  16.012367  83.987633  16.012367              N  \n",
       "\n",
       "[3500 rows x 24 columns]"
      ]
     },
     "execution_count": 29,
     "metadata": {},
     "output_type": "execute_result"
    }
   ],
   "source": [
    "df"
   ]
  },
  {
   "cell_type": "markdown",
   "id": "43abd33d",
   "metadata": {},
   "source": [
    "## 3. Model Preparation"
   ]
  },
  {
   "cell_type": "code",
   "execution_count": 34,
   "id": "edbfa8e5",
   "metadata": {},
   "outputs": [],
   "source": [
    "from sklearn.pipeline import Pipeline\n",
    "from sklearn.preprocessing import OneHotEncoder\n",
    "from sklearn.compose import make_column_transformer\n",
    "from sklearn.impute import SimpleImputer\n",
    "from sklearn.model_selection import StratifiedKFold"
   ]
  },
  {
   "cell_type": "markdown",
   "id": "c1c05435",
   "metadata": {},
   "source": [
    "### 3.1 Splitting the dataset"
   ]
  },
  {
   "cell_type": "code",
   "execution_count": 124,
   "id": "775f0dae",
   "metadata": {},
   "outputs": [],
   "source": [
    "RANDOM_STATE = 0"
   ]
  },
  {
   "cell_type": "code",
   "execution_count": 125,
   "id": "4263fda2",
   "metadata": {},
   "outputs": [],
   "source": [
    "splitter = StratifiedKFold(n_splits=5, shuffle=True, random_state=RANDOM_STATE)\n",
    "\n",
    "cols = df.drop('Classification', axis=1).columns\n",
    "X = df.drop('Classification', axis=1).to_numpy()\n",
    "y = df['Classification']\n",
    "\n",
    "for train_index, test_index in splitter.split(X, y):\n",
    "    X_train, X_test = X[train_index], X[test_index]\n",
    "    y_train, y_test = y[train_index], y[test_index]\n",
    "\n",
    "X_train = pd.DataFrame(X_train, columns=cols)\n",
    "X_test = pd.DataFrame(X_test, columns=cols)\n",
    "y_train = pd.get_dummies(y_train)['A']\n",
    "y_test = pd.get_dummies(y_test)['A']"
   ]
  },
  {
   "cell_type": "markdown",
   "id": "c1af585d",
   "metadata": {},
   "source": [
    "### 3.2 Model Pipeline"
   ]
  },
  {
   "cell_type": "code",
   "execution_count": 154,
   "id": "594199ac",
   "metadata": {},
   "outputs": [],
   "source": [
    "from sklearn.svm import SVC\n",
    "from sklearn.metrics import f1_score, classification_report, accuracy_score, recall_score"
   ]
  },
  {
   "cell_type": "code",
   "execution_count": 128,
   "id": "08b92dea",
   "metadata": {},
   "outputs": [
    {
     "data": {
      "text/plain": [
       "Pipeline(steps=[('imputer', SimpleImputer(strategy='median')), ('SVM', SVC())])"
      ]
     },
     "execution_count": 128,
     "metadata": {},
     "output_type": "execute_result"
    }
   ],
   "source": [
    "svm_ppln = Pipeline([\n",
    "    ('imputer', SimpleImputer(strategy='median')),\n",
    "    ('SVM', SVC())\n",
    "    \n",
    "])\n",
    "\n",
    "svm_ppln.fit(X_train, y_train)"
   ]
  },
  {
   "cell_type": "code",
   "execution_count": 159,
   "id": "82385836",
   "metadata": {},
   "outputs": [
    {
     "data": {
      "text/plain": [
       "0.0"
      ]
     },
     "execution_count": 159,
     "metadata": {},
     "output_type": "execute_result"
    }
   ],
   "source": [
    "y_pred = svm_ppln.predict(X_test)\n",
    "\n",
    "f1_score(y_test, y_pred)"
   ]
  },
  {
   "cell_type": "code",
   "execution_count": 161,
   "id": "7a37d3bb",
   "metadata": {},
   "outputs": [
    {
     "name": "stdout",
     "output_type": "stream",
     "text": [
      "              precision    recall  f1-score   support\n",
      "\n",
      "           0       0.88      1.00      0.94       617\n",
      "           1       0.00      0.00      0.00        83\n",
      "\n",
      "    accuracy                           0.88       700\n",
      "   macro avg       0.44      0.50      0.47       700\n",
      "weighted avg       0.78      0.88      0.83       700\n",
      "\n"
     ]
    }
   ],
   "source": [
    "print(classification_report(y_test, y_pred))"
   ]
  },
  {
   "cell_type": "code",
   "execution_count": 141,
   "id": "4fe7dfc9",
   "metadata": {},
   "outputs": [],
   "source": [
    "from sklearn.tree import DecisionTreeClassifier"
   ]
  },
  {
   "cell_type": "code",
   "execution_count": 172,
   "id": "39db8c9d",
   "metadata": {},
   "outputs": [
    {
     "name": "stdout",
     "output_type": "stream",
     "text": [
      "Decision Tree\n",
      "F1-Score:  0.8176100628930818\n",
      "Recall Score:  0.7831325301204819\n",
      "Classification Report: \n",
      "               precision    recall  f1-score   support\n",
      "\n",
      "           0       0.97      0.98      0.98       617\n",
      "           1       0.86      0.78      0.82        83\n",
      "\n",
      "    accuracy                           0.96       700\n",
      "   macro avg       0.91      0.88      0.90       700\n",
      "weighted avg       0.96      0.96      0.96       700\n",
      "\n"
     ]
    }
   ],
   "source": [
    "dt_ppln = Pipeline([\n",
    "    ('imputer', SimpleImputer(strategy='median')),\n",
    "    ('dt', DecisionTreeClassifier())\n",
    "])\n",
    "\n",
    "dt_ppln.fit(X_train, y_train)\n",
    "\n",
    "y_pred = dt_ppln.predict(X_test)\n",
    "\n",
    "print('Decision Tree')\n",
    "print('F1-Score: ',f1_score(y_test, y_pred))\n",
    "print('Recall Score: ', recall_score(y_test, y_pred))\n",
    "print('Classification Report: \\n',classification_report(y_test, y_pred))"
   ]
  },
  {
   "cell_type": "code",
   "execution_count": 176,
   "id": "5345c573",
   "metadata": {},
   "outputs": [
    {
     "name": "stdout",
     "output_type": "stream",
     "text": [
      "RandomForest\n",
      "F1-Score:  0.8176100628930818\n",
      "Recall Score:  0.7831325301204819\n",
      "Classification Report: \n",
      "               precision    recall  f1-score   support\n",
      "\n",
      "           0       0.97      0.98      0.98       617\n",
      "           1       0.86      0.78      0.82        83\n",
      "\n",
      "    accuracy                           0.96       700\n",
      "   macro avg       0.91      0.88      0.90       700\n",
      "weighted avg       0.96      0.96      0.96       700\n",
      "\n"
     ]
    }
   ],
   "source": [
    "from sklearn.ensemble import RandomForestClassifier\n",
    "\n",
    "# train model\n",
    "rfc = Pipeline([\n",
    "    ('imputer', SimpleImputer(strategy='median')),\n",
    "    ('rf', RandomForestClassifier(n_estimators=100))\n",
    "])\n",
    "\n",
    "rfc.fit(X_train, y_train)\n",
    "\n",
    "# predict on test set\n",
    "rfc_pred = rfc.predict(X_test)\n",
    "\n",
    "print('RandomForest')\n",
    "print('F1-Score: ',f1_score(y_test, y_pred))\n",
    "print('Recall Score: ', recall_score(y_test, y_pred))\n",
    "print('Classification Report: \\n',classification_report(y_test, y_pred))"
   ]
  },
  {
   "cell_type": "code",
   "execution_count": null,
   "id": "2f59b341",
   "metadata": {},
   "outputs": [],
   "source": []
  }
 ],
 "metadata": {
  "kernelspec": {
   "display_name": "flipr",
   "language": "python",
   "name": "flipr"
  },
  "language_info": {
   "codemirror_mode": {
    "name": "ipython",
    "version": 3
   },
   "file_extension": ".py",
   "mimetype": "text/x-python",
   "name": "python",
   "nbconvert_exporter": "python",
   "pygments_lexer": "ipython3",
   "version": "3.9.7"
  }
 },
 "nbformat": 4,
 "nbformat_minor": 5
}
